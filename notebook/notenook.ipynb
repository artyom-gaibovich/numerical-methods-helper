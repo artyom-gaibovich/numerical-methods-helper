{
 "cells": [
  {
   "cell_type": "code",
   "execution_count": 1,
   "id": "initial_id",
   "metadata": {
    "collapsed": true,
    "ExecuteTime": {
     "end_time": "2024-06-22T13:14:03.219864312Z",
     "start_time": "2024-06-22T13:14:03.205973491Z"
    }
   },
   "outputs": [],
   "source": [
    "import numpy as np\n",
    "import src.differentiation as differentiation\n",
    "import src.integration as integration\n",
    "import src.interpolation as interpolation\n",
    "import src.limits as limits\n",
    "import src.linear_systems as linear_systems\n",
    "import src.linear_systems_iterative as linear_systems_iterative\n",
    "import src.ode as ode\n",
    "import src.polynomials as polynomials\n",
    "import src.solutions as solutions\n"
   ]
  },
  {
   "cell_type": "code",
   "outputs": [],
   "source": [
    "import math\n",
    "def example_solution_bisection():\n",
    "    \"\"\"Запустить пример 'Решения: Метод бисекции'.\"\"\"\n",
    "    # Метод бисекции (поиск корней уравнения)\n",
    "    #   Плюсы:\n",
    "    #       Это надежный метод с гарантированной сходимостью;\n",
    "    #       Это простой метод, который ищет корень, используя бинарный поиск;\n",
    "    #       Нет необходимости вычислять производную функции.\n",
    "    #   Минусы:\n",
    "    #       Медленная сходимость;\n",
    "    #       Необходимо задать интервал поиска [a, b];\n",
    "    #       Указанный интервал должен иметь смену знака, f(a) * f(b) < 0.\n",
    "\n",
    "    def f(x):\n",
    "        return math.cos(x+0.5)-x**3\n",
    "    \n",
    "\n",
    "    a = -1\n",
    "    b = 3\n",
    "    toler = 0.0001\n",
    "    iter_max = 100\n",
    "\n",
    "    print(\"Входные данные:\")\n",
    "    print(f\"a = {a}\")\n",
    "    print(f\"b = {b}\")\n",
    "    print(f\"toler = {toler}\")\n",
    "    print(f\"iter_max = {iter_max}\")\n",
    "\n",
    "    print(\"Выполнение:\")\n",
    "    root, i, converged = solutions.bisection(f, a, b, toler, iter_max)\n",
    "\n",
    "    print(\"Выходные данные:\")\n",
    "    print(f\"root = {root:.5f}\")\n",
    "    print(f\"i = {i}\")\n",
    "    print(f\"converged = {converged}\")\n",
    "\n"
   ],
   "metadata": {
    "collapsed": false,
    "ExecuteTime": {
     "end_time": "2024-06-22T13:14:14.856795245Z",
     "start_time": "2024-06-22T13:14:14.851495032Z"
    }
   },
   "id": "d98a53770e845e40",
   "execution_count": 2
  },
  {
   "cell_type": "code",
   "outputs": [
    {
     "name": "stdout",
     "output_type": "stream",
     "text": [
      "Входные данные:\n",
      "a = -1\n",
      "b = 3\n",
      "toler = 0.0001\n",
      "iter_max = 100\n",
      "Выполнение:\n",
      "i = 000,\tx = +1.0000,\tfx = -0.9293,\tdx = +2.0000\n",
      "i = 001,\tx = +0.0000,\tfx = +0.8776,\tdx = +1.0000\n",
      "i = 002,\tx = +0.5000,\tfx = +0.4153,\tdx = +0.5000\n",
      "i = 003,\tx = +0.7500,\tfx = -0.1066,\tdx = +0.2500\n",
      "i = 004,\tx = +0.6250,\tfx = +0.1870,\tdx = +0.1250\n",
      "i = 005,\tx = +0.6875,\tfx = +0.0490,\tdx = +0.0625\n",
      "i = 006,\tx = +0.7188,\tfx = -0.0265,\tdx = +0.0312\n",
      "i = 007,\tx = +0.7031,\tfx = +0.0118,\tdx = +0.0156\n",
      "i = 008,\tx = +0.7109,\tfx = -0.0072,\tdx = +0.0078\n",
      "i = 009,\tx = +0.7070,\tfx = +0.0024,\tdx = +0.0039\n",
      "i = 010,\tx = +0.7090,\tfx = -0.0024,\tdx = +0.0020\n",
      "i = 011,\tx = +0.7080,\tfx = -0.0000,\tdx = +0.0010\n",
      "i = 012,\tx = +0.7075,\tfx = +0.0012,\tdx = +0.0005\n",
      "i = 013,\tx = +0.7078,\tfx = +0.0006,\tdx = +0.0002\n",
      "i = 014,\tx = +0.7079,\tfx = +0.0003,\tdx = +0.0001\n",
      "i = 015,\tx = +0.7079,\tfx = +0.0001,\tdx = +0.0001\n",
      "i = 016,\tx = +0.7080,\tfx = +0.0001,\tdx = +0.0000\n",
      "Выходные данные:\n",
      "root = 0.70798\n",
      "i = 16\n",
      "converged = True\n"
     ]
    }
   ],
   "source": [
    "example_solution_bisection()"
   ],
   "metadata": {
    "collapsed": false,
    "ExecuteTime": {
     "end_time": "2024-06-22T13:14:20.981666616Z",
     "start_time": "2024-06-22T13:14:20.976037924Z"
    }
   },
   "id": "80d7ce1b1457be36",
   "execution_count": 3
  },
  {
   "cell_type": "code",
   "outputs": [],
   "source": [],
   "metadata": {
    "collapsed": false
   },
   "id": "a8ce4b7a8a79f705"
  }
 ],
 "metadata": {
  "kernelspec": {
   "display_name": "Python 3",
   "language": "python",
   "name": "python3"
  },
  "language_info": {
   "codemirror_mode": {
    "name": "ipython",
    "version": 2
   },
   "file_extension": ".py",
   "mimetype": "text/x-python",
   "name": "python",
   "nbconvert_exporter": "python",
   "pygments_lexer": "ipython2",
   "version": "2.7.6"
  }
 },
 "nbformat": 4,
 "nbformat_minor": 5
}
